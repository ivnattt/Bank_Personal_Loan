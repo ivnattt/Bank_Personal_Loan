{
  "nbformat": 4,
  "nbformat_minor": 0,
  "metadata": {
    "colab": {
      "name": "Bank.ipynb",
      "provenance": [],
      "collapsed_sections": [
        "ReuES0FsyK1-"
      ],
      "authorship_tag": "ABX9TyOJd7KCvW7fC29jVIP1Ai79",
      "include_colab_link": true
    },
    "kernelspec": {
      "name": "python3",
      "display_name": "Python 3"
    }
  },
  "cells": [
    {
      "cell_type": "markdown",
      "metadata": {
        "id": "view-in-github",
        "colab_type": "text"
      },
      "source": [
        "<a href=\"https://colab.research.google.com/github/ivnattt/Bank_Personal_Loan/blob/master/Bank.ipynb\" target=\"_parent\"><img src=\"https://colab.research.google.com/assets/colab-badge.svg\" alt=\"Open In Colab\"/></a>"
      ]
    },
    {
      "cell_type": "code",
      "metadata": {
        "id": "qoA_YUW_g5m3",
        "colab_type": "code",
        "colab": {}
      },
      "source": [
        "import pandas as pd\n",
        "pd.options.mode.chained_assignment = None #To ignore a warning that popped up after reading xlxs file\n",
        "import numpy as np"
      ],
      "execution_count": 1,
      "outputs": []
    },
    {
      "cell_type": "markdown",
      "metadata": {
        "id": "z0EmltJnuywq",
        "colab_type": "text"
      },
      "source": [
        "*To upload file from PC:*\n",
        "\n"
      ]
    },
    {
      "cell_type": "code",
      "metadata": {
        "id": "4frHiEmsnGyD",
        "colab_type": "code",
        "colab": {
          "resources": {
            "http://localhost:8080/nbextensions/google.colab/files.js": {
              "data": "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",
              "ok": true,
              "headers": [
                [
                  "content-type",
                  "application/javascript"
                ]
              ],
              "status": 200,
              "status_text": "OK"
            }
          },
          "base_uri": "https://localhost:8080/",
          "height": 73
        },
        "outputId": "43637ff1-0400-4250-dc67-577db6280dd8"
      },
      "source": [
        "from google.colab import files\n",
        "uploaded = files.upload()"
      ],
      "execution_count": 2,
      "outputs": [
        {
          "output_type": "display_data",
          "data": {
            "text/html": [
              "\n",
              "     <input type=\"file\" id=\"files-781497f1-4b8e-47b5-afb8-db18b45cd7c6\" name=\"files[]\" multiple disabled\n",
              "        style=\"border:none\" />\n",
              "     <output id=\"result-781497f1-4b8e-47b5-afb8-db18b45cd7c6\">\n",
              "      Upload widget is only available when the cell has been executed in the\n",
              "      current browser session. Please rerun this cell to enable.\n",
              "      </output>\n",
              "      <script src=\"/nbextensions/google.colab/files.js\"></script> "
            ],
            "text/plain": [
              "<IPython.core.display.HTML object>"
            ]
          },
          "metadata": {
            "tags": []
          }
        },
        {
          "output_type": "stream",
          "text": [
            "Saving Bank_Personal_Loan_Modelling.xlsx to Bank_Personal_Loan_Modelling.xlsx\n"
          ],
          "name": "stdout"
        }
      ]
    },
    {
      "cell_type": "code",
      "metadata": {
        "id": "fRFodxshnT1Y",
        "colab_type": "code",
        "colab": {}
      },
      "source": [
        "import io\n",
        "\n",
        "xls = pd.ExcelFile(io.BytesIO(uploaded['Bank_Personal_Loan_Modelling.xlsx']))\n",
        "df1 = pd.read_excel(xls, 'Data')"
      ],
      "execution_count": 3,
      "outputs": []
    },
    {
      "cell_type": "code",
      "metadata": {
        "id": "25T2tv6_pOb8",
        "colab_type": "code",
        "colab": {
          "base_uri": "https://localhost:8080/",
          "height": 108
        },
        "outputId": "7a46fe8c-1693-454b-bfce-77cb9629ac63"
      },
      "source": [
        "df1.head(2)"
      ],
      "execution_count": 4,
      "outputs": [
        {
          "output_type": "execute_result",
          "data": {
            "text/html": [
              "<div>\n",
              "<style scoped>\n",
              "    .dataframe tbody tr th:only-of-type {\n",
              "        vertical-align: middle;\n",
              "    }\n",
              "\n",
              "    .dataframe tbody tr th {\n",
              "        vertical-align: top;\n",
              "    }\n",
              "\n",
              "    .dataframe thead th {\n",
              "        text-align: right;\n",
              "    }\n",
              "</style>\n",
              "<table border=\"1\" class=\"dataframe\">\n",
              "  <thead>\n",
              "    <tr style=\"text-align: right;\">\n",
              "      <th></th>\n",
              "      <th>ID</th>\n",
              "      <th>Age</th>\n",
              "      <th>Experience</th>\n",
              "      <th>Income</th>\n",
              "      <th>ZIP Code</th>\n",
              "      <th>Family</th>\n",
              "      <th>CCAvg</th>\n",
              "      <th>Education</th>\n",
              "      <th>Mortgage</th>\n",
              "      <th>Personal Loan</th>\n",
              "      <th>Securities Account</th>\n",
              "      <th>CD Account</th>\n",
              "      <th>Online</th>\n",
              "      <th>CreditCard</th>\n",
              "    </tr>\n",
              "  </thead>\n",
              "  <tbody>\n",
              "    <tr>\n",
              "      <th>0</th>\n",
              "      <td>1</td>\n",
              "      <td>25</td>\n",
              "      <td>1</td>\n",
              "      <td>49</td>\n",
              "      <td>91107</td>\n",
              "      <td>4</td>\n",
              "      <td>1.6</td>\n",
              "      <td>1</td>\n",
              "      <td>0</td>\n",
              "      <td>0</td>\n",
              "      <td>1</td>\n",
              "      <td>0</td>\n",
              "      <td>0</td>\n",
              "      <td>0</td>\n",
              "    </tr>\n",
              "    <tr>\n",
              "      <th>1</th>\n",
              "      <td>2</td>\n",
              "      <td>45</td>\n",
              "      <td>19</td>\n",
              "      <td>34</td>\n",
              "      <td>90089</td>\n",
              "      <td>3</td>\n",
              "      <td>1.5</td>\n",
              "      <td>1</td>\n",
              "      <td>0</td>\n",
              "      <td>0</td>\n",
              "      <td>1</td>\n",
              "      <td>0</td>\n",
              "      <td>0</td>\n",
              "      <td>0</td>\n",
              "    </tr>\n",
              "  </tbody>\n",
              "</table>\n",
              "</div>"
            ],
            "text/plain": [
              "   ID  Age  Experience  ...  CD Account  Online  CreditCard\n",
              "0   1   25           1  ...           0       0           0\n",
              "1   2   45          19  ...           0       0           0\n",
              "\n",
              "[2 rows x 14 columns]"
            ]
          },
          "metadata": {
            "tags": []
          },
          "execution_count": 4
        }
      ]
    },
    {
      "cell_type": "markdown",
      "metadata": {
        "id": "6RYuLmb219Ll",
        "colab_type": "text"
      },
      "source": [
        "Correlation of Everything with Everything :"
      ]
    },
    {
      "cell_type": "code",
      "metadata": {
        "id": "XQtAB-k0zfVI",
        "colab_type": "code",
        "colab": {
          "base_uri": "https://localhost:8080/",
          "height": 291
        },
        "outputId": "e1535109-56ae-406c-f12f-67d1e6b07e4c"
      },
      "source": [
        "df1[['Age', 'Income', 'ZIP Code', 'Family', 'CCAvg', 'Education', 'Mortgage',     #Highlighing correlation of Personal Loan with other attributes\n",
        "       'Personal Loan', 'Securities Account', 'CD Account', 'Online',\n",
        "       'CreditCard']].corr().style.apply(lambda x: ['background: lightblue' \n",
        "        if x.name == 'Personal Loan'  else '' for i in x])"
      ],
      "execution_count": 5,
      "outputs": [
        {
          "output_type": "execute_result",
          "data": {
            "text/html": [
              "<style  type=\"text/css\" >\n",
              "    #T_ecc10e00_edcd_11ea_bf90_0242ac1c0002row0_col7 {\n",
              "            background:  lightblue;\n",
              "        }    #T_ecc10e00_edcd_11ea_bf90_0242ac1c0002row1_col7 {\n",
              "            background:  lightblue;\n",
              "        }    #T_ecc10e00_edcd_11ea_bf90_0242ac1c0002row2_col7 {\n",
              "            background:  lightblue;\n",
              "        }    #T_ecc10e00_edcd_11ea_bf90_0242ac1c0002row3_col7 {\n",
              "            background:  lightblue;\n",
              "        }    #T_ecc10e00_edcd_11ea_bf90_0242ac1c0002row4_col7 {\n",
              "            background:  lightblue;\n",
              "        }    #T_ecc10e00_edcd_11ea_bf90_0242ac1c0002row5_col7 {\n",
              "            background:  lightblue;\n",
              "        }    #T_ecc10e00_edcd_11ea_bf90_0242ac1c0002row6_col7 {\n",
              "            background:  lightblue;\n",
              "        }    #T_ecc10e00_edcd_11ea_bf90_0242ac1c0002row7_col7 {\n",
              "            background:  lightblue;\n",
              "        }    #T_ecc10e00_edcd_11ea_bf90_0242ac1c0002row8_col7 {\n",
              "            background:  lightblue;\n",
              "        }    #T_ecc10e00_edcd_11ea_bf90_0242ac1c0002row9_col7 {\n",
              "            background:  lightblue;\n",
              "        }    #T_ecc10e00_edcd_11ea_bf90_0242ac1c0002row10_col7 {\n",
              "            background:  lightblue;\n",
              "        }    #T_ecc10e00_edcd_11ea_bf90_0242ac1c0002row11_col7 {\n",
              "            background:  lightblue;\n",
              "        }</style><table id=\"T_ecc10e00_edcd_11ea_bf90_0242ac1c0002\" ><thead>    <tr>        <th class=\"blank level0\" ></th>        <th class=\"col_heading level0 col0\" >Age</th>        <th class=\"col_heading level0 col1\" >Income</th>        <th class=\"col_heading level0 col2\" >ZIP Code</th>        <th class=\"col_heading level0 col3\" >Family</th>        <th class=\"col_heading level0 col4\" >CCAvg</th>        <th class=\"col_heading level0 col5\" >Education</th>        <th class=\"col_heading level0 col6\" >Mortgage</th>        <th class=\"col_heading level0 col7\" >Personal Loan</th>        <th class=\"col_heading level0 col8\" >Securities Account</th>        <th class=\"col_heading level0 col9\" >CD Account</th>        <th class=\"col_heading level0 col10\" >Online</th>        <th class=\"col_heading level0 col11\" >CreditCard</th>    </tr></thead><tbody>\n",
              "                <tr>\n",
              "                        <th id=\"T_ecc10e00_edcd_11ea_bf90_0242ac1c0002level0_row0\" class=\"row_heading level0 row0\" >Age</th>\n",
              "                        <td id=\"T_ecc10e00_edcd_11ea_bf90_0242ac1c0002row0_col0\" class=\"data row0 col0\" >1.000000</td>\n",
              "                        <td id=\"T_ecc10e00_edcd_11ea_bf90_0242ac1c0002row0_col1\" class=\"data row0 col1\" >-0.055269</td>\n",
              "                        <td id=\"T_ecc10e00_edcd_11ea_bf90_0242ac1c0002row0_col2\" class=\"data row0 col2\" >-0.029216</td>\n",
              "                        <td id=\"T_ecc10e00_edcd_11ea_bf90_0242ac1c0002row0_col3\" class=\"data row0 col3\" >-0.046418</td>\n",
              "                        <td id=\"T_ecc10e00_edcd_11ea_bf90_0242ac1c0002row0_col4\" class=\"data row0 col4\" >-0.052030</td>\n",
              "                        <td id=\"T_ecc10e00_edcd_11ea_bf90_0242ac1c0002row0_col5\" class=\"data row0 col5\" >0.041334</td>\n",
              "                        <td id=\"T_ecc10e00_edcd_11ea_bf90_0242ac1c0002row0_col6\" class=\"data row0 col6\" >-0.012539</td>\n",
              "                        <td id=\"T_ecc10e00_edcd_11ea_bf90_0242ac1c0002row0_col7\" class=\"data row0 col7\" >-0.007726</td>\n",
              "                        <td id=\"T_ecc10e00_edcd_11ea_bf90_0242ac1c0002row0_col8\" class=\"data row0 col8\" >-0.000436</td>\n",
              "                        <td id=\"T_ecc10e00_edcd_11ea_bf90_0242ac1c0002row0_col9\" class=\"data row0 col9\" >0.008043</td>\n",
              "                        <td id=\"T_ecc10e00_edcd_11ea_bf90_0242ac1c0002row0_col10\" class=\"data row0 col10\" >0.013702</td>\n",
              "                        <td id=\"T_ecc10e00_edcd_11ea_bf90_0242ac1c0002row0_col11\" class=\"data row0 col11\" >0.007681</td>\n",
              "            </tr>\n",
              "            <tr>\n",
              "                        <th id=\"T_ecc10e00_edcd_11ea_bf90_0242ac1c0002level0_row1\" class=\"row_heading level0 row1\" >Income</th>\n",
              "                        <td id=\"T_ecc10e00_edcd_11ea_bf90_0242ac1c0002row1_col0\" class=\"data row1 col0\" >-0.055269</td>\n",
              "                        <td id=\"T_ecc10e00_edcd_11ea_bf90_0242ac1c0002row1_col1\" class=\"data row1 col1\" >1.000000</td>\n",
              "                        <td id=\"T_ecc10e00_edcd_11ea_bf90_0242ac1c0002row1_col2\" class=\"data row1 col2\" >-0.016410</td>\n",
              "                        <td id=\"T_ecc10e00_edcd_11ea_bf90_0242ac1c0002row1_col3\" class=\"data row1 col3\" >-0.157501</td>\n",
              "                        <td id=\"T_ecc10e00_edcd_11ea_bf90_0242ac1c0002row1_col4\" class=\"data row1 col4\" >0.645993</td>\n",
              "                        <td id=\"T_ecc10e00_edcd_11ea_bf90_0242ac1c0002row1_col5\" class=\"data row1 col5\" >-0.187524</td>\n",
              "                        <td id=\"T_ecc10e00_edcd_11ea_bf90_0242ac1c0002row1_col6\" class=\"data row1 col6\" >0.206806</td>\n",
              "                        <td id=\"T_ecc10e00_edcd_11ea_bf90_0242ac1c0002row1_col7\" class=\"data row1 col7\" >0.502462</td>\n",
              "                        <td id=\"T_ecc10e00_edcd_11ea_bf90_0242ac1c0002row1_col8\" class=\"data row1 col8\" >-0.002616</td>\n",
              "                        <td id=\"T_ecc10e00_edcd_11ea_bf90_0242ac1c0002row1_col9\" class=\"data row1 col9\" >0.169738</td>\n",
              "                        <td id=\"T_ecc10e00_edcd_11ea_bf90_0242ac1c0002row1_col10\" class=\"data row1 col10\" >0.014206</td>\n",
              "                        <td id=\"T_ecc10e00_edcd_11ea_bf90_0242ac1c0002row1_col11\" class=\"data row1 col11\" >-0.002385</td>\n",
              "            </tr>\n",
              "            <tr>\n",
              "                        <th id=\"T_ecc10e00_edcd_11ea_bf90_0242ac1c0002level0_row2\" class=\"row_heading level0 row2\" >ZIP Code</th>\n",
              "                        <td id=\"T_ecc10e00_edcd_11ea_bf90_0242ac1c0002row2_col0\" class=\"data row2 col0\" >-0.029216</td>\n",
              "                        <td id=\"T_ecc10e00_edcd_11ea_bf90_0242ac1c0002row2_col1\" class=\"data row2 col1\" >-0.016410</td>\n",
              "                        <td id=\"T_ecc10e00_edcd_11ea_bf90_0242ac1c0002row2_col2\" class=\"data row2 col2\" >1.000000</td>\n",
              "                        <td id=\"T_ecc10e00_edcd_11ea_bf90_0242ac1c0002row2_col3\" class=\"data row2 col3\" >0.011778</td>\n",
              "                        <td id=\"T_ecc10e00_edcd_11ea_bf90_0242ac1c0002row2_col4\" class=\"data row2 col4\" >-0.004068</td>\n",
              "                        <td id=\"T_ecc10e00_edcd_11ea_bf90_0242ac1c0002row2_col5\" class=\"data row2 col5\" >-0.017377</td>\n",
              "                        <td id=\"T_ecc10e00_edcd_11ea_bf90_0242ac1c0002row2_col6\" class=\"data row2 col6\" >0.007383</td>\n",
              "                        <td id=\"T_ecc10e00_edcd_11ea_bf90_0242ac1c0002row2_col7\" class=\"data row2 col7\" >0.000107</td>\n",
              "                        <td id=\"T_ecc10e00_edcd_11ea_bf90_0242ac1c0002row2_col8\" class=\"data row2 col8\" >0.004704</td>\n",
              "                        <td id=\"T_ecc10e00_edcd_11ea_bf90_0242ac1c0002row2_col9\" class=\"data row2 col9\" >0.019972</td>\n",
              "                        <td id=\"T_ecc10e00_edcd_11ea_bf90_0242ac1c0002row2_col10\" class=\"data row2 col10\" >0.016990</td>\n",
              "                        <td id=\"T_ecc10e00_edcd_11ea_bf90_0242ac1c0002row2_col11\" class=\"data row2 col11\" >0.007691</td>\n",
              "            </tr>\n",
              "            <tr>\n",
              "                        <th id=\"T_ecc10e00_edcd_11ea_bf90_0242ac1c0002level0_row3\" class=\"row_heading level0 row3\" >Family</th>\n",
              "                        <td id=\"T_ecc10e00_edcd_11ea_bf90_0242ac1c0002row3_col0\" class=\"data row3 col0\" >-0.046418</td>\n",
              "                        <td id=\"T_ecc10e00_edcd_11ea_bf90_0242ac1c0002row3_col1\" class=\"data row3 col1\" >-0.157501</td>\n",
              "                        <td id=\"T_ecc10e00_edcd_11ea_bf90_0242ac1c0002row3_col2\" class=\"data row3 col2\" >0.011778</td>\n",
              "                        <td id=\"T_ecc10e00_edcd_11ea_bf90_0242ac1c0002row3_col3\" class=\"data row3 col3\" >1.000000</td>\n",
              "                        <td id=\"T_ecc10e00_edcd_11ea_bf90_0242ac1c0002row3_col4\" class=\"data row3 col4\" >-0.109285</td>\n",
              "                        <td id=\"T_ecc10e00_edcd_11ea_bf90_0242ac1c0002row3_col5\" class=\"data row3 col5\" >0.064929</td>\n",
              "                        <td id=\"T_ecc10e00_edcd_11ea_bf90_0242ac1c0002row3_col6\" class=\"data row3 col6\" >-0.020445</td>\n",
              "                        <td id=\"T_ecc10e00_edcd_11ea_bf90_0242ac1c0002row3_col7\" class=\"data row3 col7\" >0.061367</td>\n",
              "                        <td id=\"T_ecc10e00_edcd_11ea_bf90_0242ac1c0002row3_col8\" class=\"data row3 col8\" >0.019994</td>\n",
              "                        <td id=\"T_ecc10e00_edcd_11ea_bf90_0242ac1c0002row3_col9\" class=\"data row3 col9\" >0.014110</td>\n",
              "                        <td id=\"T_ecc10e00_edcd_11ea_bf90_0242ac1c0002row3_col10\" class=\"data row3 col10\" >0.010354</td>\n",
              "                        <td id=\"T_ecc10e00_edcd_11ea_bf90_0242ac1c0002row3_col11\" class=\"data row3 col11\" >0.011588</td>\n",
              "            </tr>\n",
              "            <tr>\n",
              "                        <th id=\"T_ecc10e00_edcd_11ea_bf90_0242ac1c0002level0_row4\" class=\"row_heading level0 row4\" >CCAvg</th>\n",
              "                        <td id=\"T_ecc10e00_edcd_11ea_bf90_0242ac1c0002row4_col0\" class=\"data row4 col0\" >-0.052030</td>\n",
              "                        <td id=\"T_ecc10e00_edcd_11ea_bf90_0242ac1c0002row4_col1\" class=\"data row4 col1\" >0.645993</td>\n",
              "                        <td id=\"T_ecc10e00_edcd_11ea_bf90_0242ac1c0002row4_col2\" class=\"data row4 col2\" >-0.004068</td>\n",
              "                        <td id=\"T_ecc10e00_edcd_11ea_bf90_0242ac1c0002row4_col3\" class=\"data row4 col3\" >-0.109285</td>\n",
              "                        <td id=\"T_ecc10e00_edcd_11ea_bf90_0242ac1c0002row4_col4\" class=\"data row4 col4\" >1.000000</td>\n",
              "                        <td id=\"T_ecc10e00_edcd_11ea_bf90_0242ac1c0002row4_col5\" class=\"data row4 col5\" >-0.136138</td>\n",
              "                        <td id=\"T_ecc10e00_edcd_11ea_bf90_0242ac1c0002row4_col6\" class=\"data row4 col6\" >0.109909</td>\n",
              "                        <td id=\"T_ecc10e00_edcd_11ea_bf90_0242ac1c0002row4_col7\" class=\"data row4 col7\" >0.366891</td>\n",
              "                        <td id=\"T_ecc10e00_edcd_11ea_bf90_0242ac1c0002row4_col8\" class=\"data row4 col8\" >0.015087</td>\n",
              "                        <td id=\"T_ecc10e00_edcd_11ea_bf90_0242ac1c0002row4_col9\" class=\"data row4 col9\" >0.136537</td>\n",
              "                        <td id=\"T_ecc10e00_edcd_11ea_bf90_0242ac1c0002row4_col10\" class=\"data row4 col10\" >-0.003620</td>\n",
              "                        <td id=\"T_ecc10e00_edcd_11ea_bf90_0242ac1c0002row4_col11\" class=\"data row4 col11\" >-0.006686</td>\n",
              "            </tr>\n",
              "            <tr>\n",
              "                        <th id=\"T_ecc10e00_edcd_11ea_bf90_0242ac1c0002level0_row5\" class=\"row_heading level0 row5\" >Education</th>\n",
              "                        <td id=\"T_ecc10e00_edcd_11ea_bf90_0242ac1c0002row5_col0\" class=\"data row5 col0\" >0.041334</td>\n",
              "                        <td id=\"T_ecc10e00_edcd_11ea_bf90_0242ac1c0002row5_col1\" class=\"data row5 col1\" >-0.187524</td>\n",
              "                        <td id=\"T_ecc10e00_edcd_11ea_bf90_0242ac1c0002row5_col2\" class=\"data row5 col2\" >-0.017377</td>\n",
              "                        <td id=\"T_ecc10e00_edcd_11ea_bf90_0242ac1c0002row5_col3\" class=\"data row5 col3\" >0.064929</td>\n",
              "                        <td id=\"T_ecc10e00_edcd_11ea_bf90_0242ac1c0002row5_col4\" class=\"data row5 col4\" >-0.136138</td>\n",
              "                        <td id=\"T_ecc10e00_edcd_11ea_bf90_0242ac1c0002row5_col5\" class=\"data row5 col5\" >1.000000</td>\n",
              "                        <td id=\"T_ecc10e00_edcd_11ea_bf90_0242ac1c0002row5_col6\" class=\"data row5 col6\" >-0.033327</td>\n",
              "                        <td id=\"T_ecc10e00_edcd_11ea_bf90_0242ac1c0002row5_col7\" class=\"data row5 col7\" >0.136722</td>\n",
              "                        <td id=\"T_ecc10e00_edcd_11ea_bf90_0242ac1c0002row5_col8\" class=\"data row5 col8\" >-0.010812</td>\n",
              "                        <td id=\"T_ecc10e00_edcd_11ea_bf90_0242ac1c0002row5_col9\" class=\"data row5 col9\" >0.013934</td>\n",
              "                        <td id=\"T_ecc10e00_edcd_11ea_bf90_0242ac1c0002row5_col10\" class=\"data row5 col10\" >-0.015004</td>\n",
              "                        <td id=\"T_ecc10e00_edcd_11ea_bf90_0242ac1c0002row5_col11\" class=\"data row5 col11\" >-0.011014</td>\n",
              "            </tr>\n",
              "            <tr>\n",
              "                        <th id=\"T_ecc10e00_edcd_11ea_bf90_0242ac1c0002level0_row6\" class=\"row_heading level0 row6\" >Mortgage</th>\n",
              "                        <td id=\"T_ecc10e00_edcd_11ea_bf90_0242ac1c0002row6_col0\" class=\"data row6 col0\" >-0.012539</td>\n",
              "                        <td id=\"T_ecc10e00_edcd_11ea_bf90_0242ac1c0002row6_col1\" class=\"data row6 col1\" >0.206806</td>\n",
              "                        <td id=\"T_ecc10e00_edcd_11ea_bf90_0242ac1c0002row6_col2\" class=\"data row6 col2\" >0.007383</td>\n",
              "                        <td id=\"T_ecc10e00_edcd_11ea_bf90_0242ac1c0002row6_col3\" class=\"data row6 col3\" >-0.020445</td>\n",
              "                        <td id=\"T_ecc10e00_edcd_11ea_bf90_0242ac1c0002row6_col4\" class=\"data row6 col4\" >0.109909</td>\n",
              "                        <td id=\"T_ecc10e00_edcd_11ea_bf90_0242ac1c0002row6_col5\" class=\"data row6 col5\" >-0.033327</td>\n",
              "                        <td id=\"T_ecc10e00_edcd_11ea_bf90_0242ac1c0002row6_col6\" class=\"data row6 col6\" >1.000000</td>\n",
              "                        <td id=\"T_ecc10e00_edcd_11ea_bf90_0242ac1c0002row6_col7\" class=\"data row6 col7\" >0.142095</td>\n",
              "                        <td id=\"T_ecc10e00_edcd_11ea_bf90_0242ac1c0002row6_col8\" class=\"data row6 col8\" >-0.005411</td>\n",
              "                        <td id=\"T_ecc10e00_edcd_11ea_bf90_0242ac1c0002row6_col9\" class=\"data row6 col9\" >0.089311</td>\n",
              "                        <td id=\"T_ecc10e00_edcd_11ea_bf90_0242ac1c0002row6_col10\" class=\"data row6 col10\" >-0.005995</td>\n",
              "                        <td id=\"T_ecc10e00_edcd_11ea_bf90_0242ac1c0002row6_col11\" class=\"data row6 col11\" >-0.007231</td>\n",
              "            </tr>\n",
              "            <tr>\n",
              "                        <th id=\"T_ecc10e00_edcd_11ea_bf90_0242ac1c0002level0_row7\" class=\"row_heading level0 row7\" >Personal Loan</th>\n",
              "                        <td id=\"T_ecc10e00_edcd_11ea_bf90_0242ac1c0002row7_col0\" class=\"data row7 col0\" >-0.007726</td>\n",
              "                        <td id=\"T_ecc10e00_edcd_11ea_bf90_0242ac1c0002row7_col1\" class=\"data row7 col1\" >0.502462</td>\n",
              "                        <td id=\"T_ecc10e00_edcd_11ea_bf90_0242ac1c0002row7_col2\" class=\"data row7 col2\" >0.000107</td>\n",
              "                        <td id=\"T_ecc10e00_edcd_11ea_bf90_0242ac1c0002row7_col3\" class=\"data row7 col3\" >0.061367</td>\n",
              "                        <td id=\"T_ecc10e00_edcd_11ea_bf90_0242ac1c0002row7_col4\" class=\"data row7 col4\" >0.366891</td>\n",
              "                        <td id=\"T_ecc10e00_edcd_11ea_bf90_0242ac1c0002row7_col5\" class=\"data row7 col5\" >0.136722</td>\n",
              "                        <td id=\"T_ecc10e00_edcd_11ea_bf90_0242ac1c0002row7_col6\" class=\"data row7 col6\" >0.142095</td>\n",
              "                        <td id=\"T_ecc10e00_edcd_11ea_bf90_0242ac1c0002row7_col7\" class=\"data row7 col7\" >1.000000</td>\n",
              "                        <td id=\"T_ecc10e00_edcd_11ea_bf90_0242ac1c0002row7_col8\" class=\"data row7 col8\" >0.021954</td>\n",
              "                        <td id=\"T_ecc10e00_edcd_11ea_bf90_0242ac1c0002row7_col9\" class=\"data row7 col9\" >0.316355</td>\n",
              "                        <td id=\"T_ecc10e00_edcd_11ea_bf90_0242ac1c0002row7_col10\" class=\"data row7 col10\" >0.006278</td>\n",
              "                        <td id=\"T_ecc10e00_edcd_11ea_bf90_0242ac1c0002row7_col11\" class=\"data row7 col11\" >0.002802</td>\n",
              "            </tr>\n",
              "            <tr>\n",
              "                        <th id=\"T_ecc10e00_edcd_11ea_bf90_0242ac1c0002level0_row8\" class=\"row_heading level0 row8\" >Securities Account</th>\n",
              "                        <td id=\"T_ecc10e00_edcd_11ea_bf90_0242ac1c0002row8_col0\" class=\"data row8 col0\" >-0.000436</td>\n",
              "                        <td id=\"T_ecc10e00_edcd_11ea_bf90_0242ac1c0002row8_col1\" class=\"data row8 col1\" >-0.002616</td>\n",
              "                        <td id=\"T_ecc10e00_edcd_11ea_bf90_0242ac1c0002row8_col2\" class=\"data row8 col2\" >0.004704</td>\n",
              "                        <td id=\"T_ecc10e00_edcd_11ea_bf90_0242ac1c0002row8_col3\" class=\"data row8 col3\" >0.019994</td>\n",
              "                        <td id=\"T_ecc10e00_edcd_11ea_bf90_0242ac1c0002row8_col4\" class=\"data row8 col4\" >0.015087</td>\n",
              "                        <td id=\"T_ecc10e00_edcd_11ea_bf90_0242ac1c0002row8_col5\" class=\"data row8 col5\" >-0.010812</td>\n",
              "                        <td id=\"T_ecc10e00_edcd_11ea_bf90_0242ac1c0002row8_col6\" class=\"data row8 col6\" >-0.005411</td>\n",
              "                        <td id=\"T_ecc10e00_edcd_11ea_bf90_0242ac1c0002row8_col7\" class=\"data row8 col7\" >0.021954</td>\n",
              "                        <td id=\"T_ecc10e00_edcd_11ea_bf90_0242ac1c0002row8_col8\" class=\"data row8 col8\" >1.000000</td>\n",
              "                        <td id=\"T_ecc10e00_edcd_11ea_bf90_0242ac1c0002row8_col9\" class=\"data row8 col9\" >0.317034</td>\n",
              "                        <td id=\"T_ecc10e00_edcd_11ea_bf90_0242ac1c0002row8_col10\" class=\"data row8 col10\" >0.012627</td>\n",
              "                        <td id=\"T_ecc10e00_edcd_11ea_bf90_0242ac1c0002row8_col11\" class=\"data row8 col11\" >-0.015028</td>\n",
              "            </tr>\n",
              "            <tr>\n",
              "                        <th id=\"T_ecc10e00_edcd_11ea_bf90_0242ac1c0002level0_row9\" class=\"row_heading level0 row9\" >CD Account</th>\n",
              "                        <td id=\"T_ecc10e00_edcd_11ea_bf90_0242ac1c0002row9_col0\" class=\"data row9 col0\" >0.008043</td>\n",
              "                        <td id=\"T_ecc10e00_edcd_11ea_bf90_0242ac1c0002row9_col1\" class=\"data row9 col1\" >0.169738</td>\n",
              "                        <td id=\"T_ecc10e00_edcd_11ea_bf90_0242ac1c0002row9_col2\" class=\"data row9 col2\" >0.019972</td>\n",
              "                        <td id=\"T_ecc10e00_edcd_11ea_bf90_0242ac1c0002row9_col3\" class=\"data row9 col3\" >0.014110</td>\n",
              "                        <td id=\"T_ecc10e00_edcd_11ea_bf90_0242ac1c0002row9_col4\" class=\"data row9 col4\" >0.136537</td>\n",
              "                        <td id=\"T_ecc10e00_edcd_11ea_bf90_0242ac1c0002row9_col5\" class=\"data row9 col5\" >0.013934</td>\n",
              "                        <td id=\"T_ecc10e00_edcd_11ea_bf90_0242ac1c0002row9_col6\" class=\"data row9 col6\" >0.089311</td>\n",
              "                        <td id=\"T_ecc10e00_edcd_11ea_bf90_0242ac1c0002row9_col7\" class=\"data row9 col7\" >0.316355</td>\n",
              "                        <td id=\"T_ecc10e00_edcd_11ea_bf90_0242ac1c0002row9_col8\" class=\"data row9 col8\" >0.317034</td>\n",
              "                        <td id=\"T_ecc10e00_edcd_11ea_bf90_0242ac1c0002row9_col9\" class=\"data row9 col9\" >1.000000</td>\n",
              "                        <td id=\"T_ecc10e00_edcd_11ea_bf90_0242ac1c0002row9_col10\" class=\"data row9 col10\" >0.175880</td>\n",
              "                        <td id=\"T_ecc10e00_edcd_11ea_bf90_0242ac1c0002row9_col11\" class=\"data row9 col11\" >0.278644</td>\n",
              "            </tr>\n",
              "            <tr>\n",
              "                        <th id=\"T_ecc10e00_edcd_11ea_bf90_0242ac1c0002level0_row10\" class=\"row_heading level0 row10\" >Online</th>\n",
              "                        <td id=\"T_ecc10e00_edcd_11ea_bf90_0242ac1c0002row10_col0\" class=\"data row10 col0\" >0.013702</td>\n",
              "                        <td id=\"T_ecc10e00_edcd_11ea_bf90_0242ac1c0002row10_col1\" class=\"data row10 col1\" >0.014206</td>\n",
              "                        <td id=\"T_ecc10e00_edcd_11ea_bf90_0242ac1c0002row10_col2\" class=\"data row10 col2\" >0.016990</td>\n",
              "                        <td id=\"T_ecc10e00_edcd_11ea_bf90_0242ac1c0002row10_col3\" class=\"data row10 col3\" >0.010354</td>\n",
              "                        <td id=\"T_ecc10e00_edcd_11ea_bf90_0242ac1c0002row10_col4\" class=\"data row10 col4\" >-0.003620</td>\n",
              "                        <td id=\"T_ecc10e00_edcd_11ea_bf90_0242ac1c0002row10_col5\" class=\"data row10 col5\" >-0.015004</td>\n",
              "                        <td id=\"T_ecc10e00_edcd_11ea_bf90_0242ac1c0002row10_col6\" class=\"data row10 col6\" >-0.005995</td>\n",
              "                        <td id=\"T_ecc10e00_edcd_11ea_bf90_0242ac1c0002row10_col7\" class=\"data row10 col7\" >0.006278</td>\n",
              "                        <td id=\"T_ecc10e00_edcd_11ea_bf90_0242ac1c0002row10_col8\" class=\"data row10 col8\" >0.012627</td>\n",
              "                        <td id=\"T_ecc10e00_edcd_11ea_bf90_0242ac1c0002row10_col9\" class=\"data row10 col9\" >0.175880</td>\n",
              "                        <td id=\"T_ecc10e00_edcd_11ea_bf90_0242ac1c0002row10_col10\" class=\"data row10 col10\" >1.000000</td>\n",
              "                        <td id=\"T_ecc10e00_edcd_11ea_bf90_0242ac1c0002row10_col11\" class=\"data row10 col11\" >0.004210</td>\n",
              "            </tr>\n",
              "            <tr>\n",
              "                        <th id=\"T_ecc10e00_edcd_11ea_bf90_0242ac1c0002level0_row11\" class=\"row_heading level0 row11\" >CreditCard</th>\n",
              "                        <td id=\"T_ecc10e00_edcd_11ea_bf90_0242ac1c0002row11_col0\" class=\"data row11 col0\" >0.007681</td>\n",
              "                        <td id=\"T_ecc10e00_edcd_11ea_bf90_0242ac1c0002row11_col1\" class=\"data row11 col1\" >-0.002385</td>\n",
              "                        <td id=\"T_ecc10e00_edcd_11ea_bf90_0242ac1c0002row11_col2\" class=\"data row11 col2\" >0.007691</td>\n",
              "                        <td id=\"T_ecc10e00_edcd_11ea_bf90_0242ac1c0002row11_col3\" class=\"data row11 col3\" >0.011588</td>\n",
              "                        <td id=\"T_ecc10e00_edcd_11ea_bf90_0242ac1c0002row11_col4\" class=\"data row11 col4\" >-0.006686</td>\n",
              "                        <td id=\"T_ecc10e00_edcd_11ea_bf90_0242ac1c0002row11_col5\" class=\"data row11 col5\" >-0.011014</td>\n",
              "                        <td id=\"T_ecc10e00_edcd_11ea_bf90_0242ac1c0002row11_col6\" class=\"data row11 col6\" >-0.007231</td>\n",
              "                        <td id=\"T_ecc10e00_edcd_11ea_bf90_0242ac1c0002row11_col7\" class=\"data row11 col7\" >0.002802</td>\n",
              "                        <td id=\"T_ecc10e00_edcd_11ea_bf90_0242ac1c0002row11_col8\" class=\"data row11 col8\" >-0.015028</td>\n",
              "                        <td id=\"T_ecc10e00_edcd_11ea_bf90_0242ac1c0002row11_col9\" class=\"data row11 col9\" >0.278644</td>\n",
              "                        <td id=\"T_ecc10e00_edcd_11ea_bf90_0242ac1c0002row11_col10\" class=\"data row11 col10\" >0.004210</td>\n",
              "                        <td id=\"T_ecc10e00_edcd_11ea_bf90_0242ac1c0002row11_col11\" class=\"data row11 col11\" >1.000000</td>\n",
              "            </tr>\n",
              "    </tbody></table>"
            ],
            "text/plain": [
              "<pandas.io.formats.style.Styler at 0x7fecfd2e3f28>"
            ]
          },
          "metadata": {
            "tags": []
          },
          "execution_count": 5
        }
      ]
    },
    {
      "cell_type": "markdown",
      "metadata": {
        "id": "LjCG0d7MRG4s",
        "colab_type": "text"
      },
      "source": [
        "What's worth observing is that Age and Experience are highly correlated.\n",
        "Also, Income and CCAvg are moderately correlated."
      ]
    },
    {
      "cell_type": "markdown",
      "metadata": {
        "id": "ReuES0FsyK1-",
        "colab_type": "text"
      },
      "source": [
        "# EDA  / UNIQUE VALUES with inferences\n"
      ]
    },
    {
      "cell_type": "markdown",
      "metadata": {
        "id": "CnXqAOGAyTcB",
        "colab_type": "text"
      },
      "source": [
        "Personal Loan"
      ]
    },
    {
      "cell_type": "code",
      "metadata": {
        "id": "9L06Y6vjwJRq",
        "colab_type": "code",
        "colab": {
          "base_uri": "https://localhost:8080/",
          "height": 90
        },
        "outputId": "10493138-e401-489f-cf37-14caff55d875"
      },
      "source": [
        "output = df1.drop_duplicates()\n",
        "output.groupby('Personal Loan').size()"
      ],
      "execution_count": 6,
      "outputs": [
        {
          "output_type": "execute_result",
          "data": {
            "text/plain": [
              "Personal Loan\n",
              "0    4520\n",
              "1     480\n",
              "dtype: int64"
            ]
          },
          "metadata": {
            "tags": []
          },
          "execution_count": 6
        }
      ]
    },
    {
      "cell_type": "markdown",
      "metadata": {
        "id": "hAwdJF6euTr_",
        "colab_type": "text"
      },
      "source": [
        "ZIP Code Values\n",
        "\n",
        "=> There are 467 unique vales\n",
        "\n",
        "=> Also it's correlation with Personal Loan is negative\n",
        "\n",
        "=> It is seemingly redundant"
      ]
    },
    {
      "cell_type": "code",
      "metadata": {
        "id": "oGXE9BPixATq",
        "colab_type": "code",
        "colab": {
          "base_uri": "https://localhost:8080/",
          "height": 254
        },
        "outputId": "d48fb500-7f95-4f11-874f-2b84498452a9"
      },
      "source": [
        "out = df1.drop_duplicates()\n",
        "out.groupby('ZIP Code').size()"
      ],
      "execution_count": 7,
      "outputs": [
        {
          "output_type": "execute_result",
          "data": {
            "text/plain": [
              "ZIP Code\n",
              "9307     1\n",
              "90005    5\n",
              "90007    6\n",
              "90009    8\n",
              "90011    3\n",
              "        ..\n",
              "96091    4\n",
              "96094    2\n",
              "96145    1\n",
              "96150    4\n",
              "96651    6\n",
              "Length: 467, dtype: int64"
            ]
          },
          "metadata": {
            "tags": []
          },
          "execution_count": 7
        }
      ]
    },
    {
      "cell_type": "markdown",
      "metadata": {
        "id": "R9ILZOMr4eKX",
        "colab_type": "text"
      },
      "source": [
        "Credit Card spending\n",
        "\n",
        "=> Number of people with zero credit card spending per month = 106/5000  "
      ]
    },
    {
      "cell_type": "code",
      "metadata": {
        "id": "wPo_UinMzgGD",
        "colab_type": "code",
        "colab": {
          "base_uri": "https://localhost:8080/",
          "height": 254
        },
        "outputId": "994611e2-7d0a-4609-db9f-fed3920e7d7e"
      },
      "source": [
        "out = df1.drop_duplicates()\n",
        "out.groupby('CCAvg').size()"
      ],
      "execution_count": 8,
      "outputs": [
        {
          "output_type": "execute_result",
          "data": {
            "text/plain": [
              "CCAvg\n",
              "0.0     106\n",
              "0.1     183\n",
              "0.2     204\n",
              "0.3     241\n",
              "0.4     179\n",
              "       ... \n",
              "8.8       9\n",
              "8.9       1\n",
              "9.0       2\n",
              "9.3       1\n",
              "10.0      3\n",
              "Length: 108, dtype: int64"
            ]
          },
          "metadata": {
            "tags": []
          },
          "execution_count": 8
        }
      ]
    },
    {
      "cell_type": "markdown",
      "metadata": {
        "id": "dBgKAwBK5n30",
        "colab_type": "text"
      },
      "source": [
        "Mortage Values\n",
        "\n",
        "=> Number of people with zero mortgage= 3462"
      ]
    },
    {
      "cell_type": "code",
      "metadata": {
        "colab_type": "code",
        "id": "_EPEC2Bh5uj1",
        "colab": {
          "base_uri": "https://localhost:8080/",
          "height": 254
        },
        "outputId": "e4f41deb-eb00-4141-bf05-5b154d72fef4"
      },
      "source": [
        "out = df1.drop_duplicates()\n",
        "out.groupby('Mortgage').size()"
      ],
      "execution_count": 9,
      "outputs": [
        {
          "output_type": "execute_result",
          "data": {
            "text/plain": [
              "Mortgage\n",
              "0      3462\n",
              "75        8\n",
              "76       12\n",
              "77        4\n",
              "78       15\n",
              "       ... \n",
              "590       1\n",
              "601       1\n",
              "612       1\n",
              "617       1\n",
              "635       1\n",
              "Length: 347, dtype: int64"
            ]
          },
          "metadata": {
            "tags": []
          },
          "execution_count": 9
        }
      ]
    },
    {
      "cell_type": "markdown",
      "metadata": {
        "id": "un62Mkzzq9YP",
        "colab_type": "text"
      },
      "source": [
        "# Visualisation (Part of EDA) - Only Observations"
      ]
    },
    {
      "cell_type": "code",
      "metadata": {
        "id": "9LhY_4rKrET2",
        "colab_type": "code",
        "colab": {
          "base_uri": "https://localhost:8080/",
          "height": 74
        },
        "outputId": "0886c4d1-6790-4c21-e249-59cf863b013b"
      },
      "source": [
        "import matplotlib.pyplot as plt\n",
        "%matplotlib inline\n",
        "import pandas.util.testing as tm\n",
        "import seaborn as sns\n",
        "sns.set(style=\"dark\") #to make the graph look cleaner"
      ],
      "execution_count": 10,
      "outputs": [
        {
          "output_type": "stream",
          "text": [
            "/usr/local/lib/python3.6/dist-packages/ipykernel_launcher.py:3: FutureWarning: pandas.util.testing is deprecated. Use the functions in the public API at pandas.testing instead.\n",
            "  This is separate from the ipykernel package so we can avoid doing imports until\n"
          ],
          "name": "stderr"
        }
      ]
    },
    {
      "cell_type": "code",
      "metadata": {
        "id": "x9iADRBmMAN6",
        "colab_type": "code",
        "colab": {
          "base_uri": "https://localhost:8080/",
          "height": 300
        },
        "outputId": "891441bf-c921-4420-f559-142517401b18"
      },
      "source": [
        "out = df1.drop_duplicates()\n",
        "out.groupby('Personal Loan').size().plot(kind=\"bar\")"
      ],
      "execution_count": 11,
      "outputs": [
        {
          "output_type": "execute_result",
          "data": {
            "text/plain": [
              "<matplotlib.axes._subplots.AxesSubplot at 0x7fecf1936470>"
            ]
          },
          "metadata": {
            "tags": []
          },
          "execution_count": 11
        },
        {
          "output_type": "display_data",
          "data": {
            "image/png": "[encoded data removed]",
            "text/plain": [
              "<Figure size 432x288 with 1 Axes>"
            ]
          },
          "metadata": {
            "tags": []
          }
        }
      ]
    },
    {
      "cell_type": "code",
      "metadata": {
        "id": "q3X9oFz5M7Bv",
        "colab_type": "code",
        "colab": {
          "base_uri": "https://localhost:8080/",
          "height": 300
        },
        "outputId": "678a92ac-95e5-48b1-aee9-07c99d34d3a0"
      },
      "source": [
        "out = df1.drop_duplicates()\n",
        "out.groupby('CD Account').size().plot(kind=\"bar\")"
      ],
      "execution_count": 12,
      "outputs": [
        {
          "output_type": "execute_result",
          "data": {
            "text/plain": [
              "<matplotlib.axes._subplots.AxesSubplot at 0x7fecfc62b278>"
            ]
          },
          "metadata": {
            "tags": []
          },
          "execution_count": 12
        },
        {
          "output_type": "display_data",
          "data": {
            "image/png": "[encoded data removed]",
            "text/plain": [
              "<Figure size 432x288 with 1 Axes>"
            ]
          },
          "metadata": {
            "tags": []
          }
        }
      ]
    },
    {
      "cell_type": "code",
      "metadata": {
        "id": "0P6B6grJM7XM",
        "colab_type": "code",
        "colab": {
          "base_uri": "https://localhost:8080/",
          "height": 300
        },
        "outputId": "2f901c4a-fbe3-42c8-f42c-a52677f58b26"
      },
      "source": [
        "out = df1.drop_duplicates()\n",
        "out.groupby('Education').size().plot(kind=\"bar\")"
      ],
      "execution_count": 13,
      "outputs": [
        {
          "output_type": "execute_result",
          "data": {
            "text/plain": [
              "<matplotlib.axes._subplots.AxesSubplot at 0x7fecf13f3630>"
            ]
          },
          "metadata": {
            "tags": []
          },
          "execution_count": 13
        },
        {
          "output_type": "display_data",
          "data": {
            "image/png": "[encoded data removed]",
            "text/plain": [
              "<Figure size 432x288 with 1 Axes>"
            ]
          },
          "metadata": {
            "tags": []
          }
        }
      ]
    },
    {
      "cell_type": "code",
      "metadata": {
        "id": "E12YHcHzBUbr",
        "colab_type": "code",
        "colab": {
          "base_uri": "https://localhost:8080/",
          "height": 305
        },
        "outputId": "f1315f9f-9286-4c79-e157-966ca79a26dd"
      },
      "source": [
        "sns.distplot(df1['Income'])"
      ],
      "execution_count": 14,
      "outputs": [
        {
          "output_type": "execute_result",
          "data": {
            "text/plain": [
              "<matplotlib.axes._subplots.AxesSubplot at 0x7fecf13babe0>"
            ]
          },
          "metadata": {
            "tags": []
          },
          "execution_count": 14
        },
        {
          "output_type": "display_data",
          "data": {
            "image/png": "[encoded data removed]",
            "text/plain": [
              "<Figure size 432x288 with 1 Axes>"
            ]
          },
          "metadata": {
            "tags": []
          }
        }
      ]
    },
    {
      "cell_type": "markdown",
      "metadata": {
        "id": "Cl6V6h-MXz15",
        "colab_type": "text"
      },
      "source": [
        "The income data is skewed and needs to be normalized."
      ]
    },
    {
      "cell_type": "code",
      "metadata": {
        "id": "aY-o1flYYyiJ",
        "colab_type": "code",
        "colab": {
          "base_uri": "https://localhost:8080/",
          "height": 303
        },
        "outputId": "b5f92bf9-a5a8-457a-b381-f89b4a9d80cf"
      },
      "source": [
        "sns.distplot(df1['CCAvg'])"
      ],
      "execution_count": 15,
      "outputs": [
        {
          "output_type": "execute_result",
          "data": {
            "text/plain": [
              "<matplotlib.axes._subplots.AxesSubplot at 0x7fecf12e6748>"
            ]
          },
          "metadata": {
            "tags": []
          },
          "execution_count": 15
        },
        {
          "output_type": "display_data",
          "data": {
            "image/png": "[encoded data removed]",
            "text/plain": [
              "<Figure size 432x288 with 1 Axes>"
            ]
          },
          "metadata": {
            "tags": []
          }
        }
      ]
    },
    {
      "cell_type": "markdown",
      "metadata": {
        "id": "Cj-LMD4hZJaR",
        "colab_type": "text"
      },
      "source": [
        "Just like income, CCAvg is unevenly distributed and is heavily skewed."
      ]
    },
    {
      "cell_type": "code",
      "metadata": {
        "id": "JgWsphz-tWhB",
        "colab_type": "code",
        "colab": {
          "base_uri": "https://localhost:8080/",
          "height": 303
        },
        "outputId": "e2966ebe-813c-462d-b1ad-b80315b7947e"
      },
      "source": [
        "sns.boxplot(x=\"Education\", y=\"Income\", hue=\"Personal Loan\", data=df1)"
      ],
      "execution_count": 16,
      "outputs": [
        {
          "output_type": "execute_result",
          "data": {
            "text/plain": [
              "<matplotlib.axes._subplots.AxesSubplot at 0x7fecf1866ef0>"
            ]
          },
          "metadata": {
            "tags": []
          },
          "execution_count": 16
        },
        {
          "output_type": "display_data",
          "data": {
            "image/png": "[encoded data removed]",
            "text/plain": [
              "<Figure size 432x288 with 1 Axes>"
            ]
          },
          "metadata": {
            "tags": []
          }
        }
      ]
    },
    {
      "cell_type": "markdown",
      "metadata": {
        "id": "z_18ntTUQQOw",
        "colab_type": "text"
      },
      "source": [
        "=> People with higher income in all levels of education take up a loan."
      ]
    },
    {
      "cell_type": "code",
      "metadata": {
        "id": "tkjBnwCysZoQ",
        "colab_type": "code",
        "colab": {
          "base_uri": "https://localhost:8080/",
          "height": 303
        },
        "outputId": "3a5c4893-72d8-42c1-ab53-d46ef27da7b7"
      },
      "source": [
        "sns.boxplot(x=\"Family\", y=\"Mortgage\", hue=\"Personal Loan\" ,data=df1)"
      ],
      "execution_count": 17,
      "outputs": [
        {
          "output_type": "execute_result",
          "data": {
            "text/plain": [
              "<matplotlib.axes._subplots.AxesSubplot at 0x7fecf11fa0b8>"
            ]
          },
          "metadata": {
            "tags": []
          },
          "execution_count": 17
        },
        {
          "output_type": "display_data",
          "data": {
            "image/png": "[encoded data removed]",
            "text/plain": [
              "<Figure size 432x288 with 1 Axes>"
            ]
          },
          "metadata": {
            "tags": []
          }
        }
      ]
    },
    {
      "cell_type": "markdown",
      "metadata": {
        "id": "QuQK8UQnN_f-",
        "colab_type": "text"
      },
      "source": [
        "The data has a lot of outliers and is heavily skewed (positively).\n",
        "\n",
        "=> For people with level 1 education, there's equal tendency towards taking a loan.\n",
        "\n",
        "=> For people with level 2 and 3 education, higher mortgage suggests higher chances at taking a loan."
      ]
    },
    {
      "cell_type": "code",
      "metadata": {
        "id": "1sUfoYVMSNLU",
        "colab_type": "code",
        "colab": {
          "base_uri": "https://localhost:8080/",
          "height": 303
        },
        "outputId": "4823b412-0edd-4f84-b54f-71d31585874f"
      },
      "source": [
        "sns.boxplot(x=\"Family\",y=\"Income\",hue=\"Personal Loan\", data=df1)"
      ],
      "execution_count": 18,
      "outputs": [
        {
          "output_type": "execute_result",
          "data": {
            "text/plain": [
              "<matplotlib.axes._subplots.AxesSubplot at 0x7fecf1042a20>"
            ]
          },
          "metadata": {
            "tags": []
          },
          "execution_count": 18
        },
        {
          "output_type": "display_data",
          "data": {
            "image/png": "[encoded data removed]",
            "text/plain": [
              "<Figure size 432x288 with 1 Axes>"
            ]
          },
          "metadata": {
            "tags": []
          }
        }
      ]
    },
    {
      "cell_type": "markdown",
      "metadata": {
        "id": "JJU3Np75Sqse",
        "colab_type": "text"
      },
      "source": [
        "=> Families having low income, tend to not take personal loan."
      ]
    },
    {
      "cell_type": "code",
      "metadata": {
        "id": "nB1yv1iYuP4T",
        "colab_type": "code",
        "colab": {
          "base_uri": "https://localhost:8080/",
          "height": 285
        },
        "outputId": "f34a430d-0cfa-4f12-9834-6cdf66265755"
      },
      "source": [
        "sns.distplot(df1['Mortgage'])\n",
        "plt.show()"
      ],
      "execution_count": 19,
      "outputs": [
        {
          "output_type": "display_data",
          "data": {
            "image/png": "[encoded data removed]",
            "text/plain": [
              "<Figure size 432x288 with 1 Axes>"
            ]
          },
          "metadata": {
            "tags": []
          }
        }
      ]
    },
    {
      "cell_type": "markdown",
      "metadata": {
        "id": "qR8wyiZFYnhD",
        "colab_type": "text"
      },
      "source": [
        "=> Mortgage data is skewed and unevenly distributed."
      ]
    },
    {
      "cell_type": "markdown",
      "metadata": {
        "id": "D7Fpp6oG9Reh",
        "colab_type": "text"
      },
      "source": [
        "# Data Analysis and Cleaning \n",
        "\n"
      ]
    },
    {
      "cell_type": "code",
      "metadata": {
        "id": "utUsOCVz54Qp",
        "colab_type": "code",
        "colab": {}
      },
      "source": [
        "from sklearn import preprocessing\n",
        "from sklearn.preprocessing import MinMaxScaler\n",
        "from sklearn.preprocessing import PowerTransformer"
      ],
      "execution_count": 20,
      "outputs": []
    },
    {
      "cell_type": "code",
      "metadata": {
        "id": "BPLR1EpOnffh",
        "colab_type": "code",
        "colab": {
          "base_uri": "https://localhost:8080/",
          "height": 35
        },
        "outputId": "0fdfbc8d-3c3b-4acc-f389-fbf369ad1d44"
      },
      "source": [
        "\n",
        "df1.shape"
      ],
      "execution_count": 21,
      "outputs": [
        {
          "output_type": "execute_result",
          "data": {
            "text/plain": [
              "(5000, 14)"
            ]
          },
          "metadata": {
            "tags": []
          },
          "execution_count": 21
        }
      ]
    },
    {
      "cell_type": "code",
      "metadata": {
        "id": "M0JfuojYg9TE",
        "colab_type": "code",
        "colab": {
          "base_uri": "https://localhost:8080/",
          "height": 325
        },
        "outputId": "51cb76eb-d344-46d5-a368-1e68eca1b7e1"
      },
      "source": [
        "df1.describe()"
      ],
      "execution_count": 22,
      "outputs": [
        {
          "output_type": "execute_result",
          "data": {
            "text/html": [
              "<div>\n",
              "<style scoped>\n",
              "    .dataframe tbody tr th:only-of-type {\n",
              "        vertical-align: middle;\n",
              "    }\n",
              "\n",
              "    .dataframe tbody tr th {\n",
              "        vertical-align: top;\n",
              "    }\n",
              "\n",
              "    .dataframe thead th {\n",
              "        text-align: right;\n",
              "    }\n",
              "</style>\n",
              "<table border=\"1\" class=\"dataframe\">\n",
              "  <thead>\n",
              "    <tr style=\"text-align: right;\">\n",
              "      <th></th>\n",
              "      <th>ID</th>\n",
              "      <th>Age</th>\n",
              "      <th>Experience</th>\n",
              "      <th>Income</th>\n",
              "      <th>ZIP Code</th>\n",
              "      <th>Family</th>\n",
              "      <th>CCAvg</th>\n",
              "      <th>Education</th>\n",
              "      <th>Mortgage</th>\n",
              "      <th>Personal Loan</th>\n",
              "      <th>Securities Account</th>\n",
              "      <th>CD Account</th>\n",
              "      <th>Online</th>\n",
              "      <th>CreditCard</th>\n",
              "    </tr>\n",
              "  </thead>\n",
              "  <tbody>\n",
              "    <tr>\n",
              "      <th>count</th>\n",
              "      <td>5000.000000</td>\n",
              "      <td>5000.000000</td>\n",
              "      <td>5000.000000</td>\n",
              "      <td>5000.000000</td>\n",
              "      <td>5000.000000</td>\n",
              "      <td>5000.000000</td>\n",
              "      <td>5000.000000</td>\n",
              "      <td>5000.000000</td>\n",
              "      <td>5000.000000</td>\n",
              "      <td>5000.000000</td>\n",
              "      <td>5000.000000</td>\n",
              "      <td>5000.00000</td>\n",
              "      <td>5000.000000</td>\n",
              "      <td>5000.000000</td>\n",
              "    </tr>\n",
              "    <tr>\n",
              "      <th>mean</th>\n",
              "      <td>2500.500000</td>\n",
              "      <td>45.338400</td>\n",
              "      <td>20.104600</td>\n",
              "      <td>73.774200</td>\n",
              "      <td>93152.503000</td>\n",
              "      <td>2.396400</td>\n",
              "      <td>1.937913</td>\n",
              "      <td>1.881000</td>\n",
              "      <td>56.498800</td>\n",
              "      <td>0.096000</td>\n",
              "      <td>0.104400</td>\n",
              "      <td>0.06040</td>\n",
              "      <td>0.596800</td>\n",
              "      <td>0.294000</td>\n",
              "    </tr>\n",
              "    <tr>\n",
              "      <th>std</th>\n",
              "      <td>1443.520003</td>\n",
              "      <td>11.463166</td>\n",
              "      <td>11.467954</td>\n",
              "      <td>46.033729</td>\n",
              "      <td>2121.852197</td>\n",
              "      <td>1.147663</td>\n",
              "      <td>1.747666</td>\n",
              "      <td>0.839869</td>\n",
              "      <td>101.713802</td>\n",
              "      <td>0.294621</td>\n",
              "      <td>0.305809</td>\n",
              "      <td>0.23825</td>\n",
              "      <td>0.490589</td>\n",
              "      <td>0.455637</td>\n",
              "    </tr>\n",
              "    <tr>\n",
              "      <th>min</th>\n",
              "      <td>1.000000</td>\n",
              "      <td>23.000000</td>\n",
              "      <td>-3.000000</td>\n",
              "      <td>8.000000</td>\n",
              "      <td>9307.000000</td>\n",
              "      <td>1.000000</td>\n",
              "      <td>0.000000</td>\n",
              "      <td>1.000000</td>\n",
              "      <td>0.000000</td>\n",
              "      <td>0.000000</td>\n",
              "      <td>0.000000</td>\n",
              "      <td>0.00000</td>\n",
              "      <td>0.000000</td>\n",
              "      <td>0.000000</td>\n",
              "    </tr>\n",
              "    <tr>\n",
              "      <th>25%</th>\n",
              "      <td>1250.750000</td>\n",
              "      <td>35.000000</td>\n",
              "      <td>10.000000</td>\n",
              "      <td>39.000000</td>\n",
              "      <td>91911.000000</td>\n",
              "      <td>1.000000</td>\n",
              "      <td>0.700000</td>\n",
              "      <td>1.000000</td>\n",
              "      <td>0.000000</td>\n",
              "      <td>0.000000</td>\n",
              "      <td>0.000000</td>\n",
              "      <td>0.00000</td>\n",
              "      <td>0.000000</td>\n",
              "      <td>0.000000</td>\n",
              "    </tr>\n",
              "    <tr>\n",
              "      <th>50%</th>\n",
              "      <td>2500.500000</td>\n",
              "      <td>45.000000</td>\n",
              "      <td>20.000000</td>\n",
              "      <td>64.000000</td>\n",
              "      <td>93437.000000</td>\n",
              "      <td>2.000000</td>\n",
              "      <td>1.500000</td>\n",
              "      <td>2.000000</td>\n",
              "      <td>0.000000</td>\n",
              "      <td>0.000000</td>\n",
              "      <td>0.000000</td>\n",
              "      <td>0.00000</td>\n",
              "      <td>1.000000</td>\n",
              "      <td>0.000000</td>\n",
              "    </tr>\n",
              "    <tr>\n",
              "      <th>75%</th>\n",
              "      <td>3750.250000</td>\n",
              "      <td>55.000000</td>\n",
              "      <td>30.000000</td>\n",
              "      <td>98.000000</td>\n",
              "      <td>94608.000000</td>\n",
              "      <td>3.000000</td>\n",
              "      <td>2.500000</td>\n",
              "      <td>3.000000</td>\n",
              "      <td>101.000000</td>\n",
              "      <td>0.000000</td>\n",
              "      <td>0.000000</td>\n",
              "      <td>0.00000</td>\n",
              "      <td>1.000000</td>\n",
              "      <td>1.000000</td>\n",
              "    </tr>\n",
              "    <tr>\n",
              "      <th>max</th>\n",
              "      <td>5000.000000</td>\n",
              "      <td>67.000000</td>\n",
              "      <td>43.000000</td>\n",
              "      <td>224.000000</td>\n",
              "      <td>96651.000000</td>\n",
              "      <td>4.000000</td>\n",
              "      <td>10.000000</td>\n",
              "      <td>3.000000</td>\n",
              "      <td>635.000000</td>\n",
              "      <td>1.000000</td>\n",
              "      <td>1.000000</td>\n",
              "      <td>1.00000</td>\n",
              "      <td>1.000000</td>\n",
              "      <td>1.000000</td>\n",
              "    </tr>\n",
              "  </tbody>\n",
              "</table>\n",
              "</div>"
            ],
            "text/plain": [
              "                ID          Age  ...       Online   CreditCard\n",
              "count  5000.000000  5000.000000  ...  5000.000000  5000.000000\n",
              "mean   2500.500000    45.338400  ...     0.596800     0.294000\n",
              "std    1443.520003    11.463166  ...     0.490589     0.455637\n",
              "min       1.000000    23.000000  ...     0.000000     0.000000\n",
              "25%    1250.750000    35.000000  ...     0.000000     0.000000\n",
              "50%    2500.500000    45.000000  ...     1.000000     0.000000\n",
              "75%    3750.250000    55.000000  ...     1.000000     1.000000\n",
              "max    5000.000000    67.000000  ...     1.000000     1.000000\n",
              "\n",
              "[8 rows x 14 columns]"
            ]
          },
          "metadata": {
            "tags": []
          },
          "execution_count": 22
        }
      ]
    },
    {
      "cell_type": "markdown",
      "metadata": {
        "id": "-pFrvTEIg-0P",
        "colab_type": "text"
      },
      "source": [
        "*Some entries for experience are negative. Unacceptable.*"
      ]
    },
    {
      "cell_type": "markdown",
      "metadata": {
        "id": "4O4tiSRgrhgD",
        "colab_type": "text"
      },
      "source": [
        "*Experince goes hand in hand with experince. A correlation value gives us a fair idea of how distinctive the features are.*"
      ]
    },
    {
      "cell_type": "markdown",
      "metadata": {
        "id": "g9D-Lvuhr4Jx",
        "colab_type": "text"
      },
      "source": [
        "*Age and Experience are **highly** correlated. So we can do away with one of them Experience has some negative values, so we'll delete the column of experience .*"
      ]
    },
    {
      "cell_type": "markdown",
      "metadata": {
        "id": "5jyEl9YYuzdr",
        "colab_type": "text"
      },
      "source": [
        "The ID and is also a redundant. So we'll remove that. "
      ]
    },
    {
      "cell_type": "code",
      "metadata": {
        "id": "y9ZsHUaE8cjZ",
        "colab_type": "code",
        "colab": {}
      },
      "source": [
        "del df1['ID']\n",
        "del df1['Experience']"
      ],
      "execution_count": 23,
      "outputs": []
    },
    {
      "cell_type": "code",
      "metadata": {
        "id": "mTFBDN2RulqB",
        "colab_type": "code",
        "colab": {
          "base_uri": "https://localhost:8080/",
          "height": 78
        },
        "outputId": "4e78b402-392b-4a14-f5da-f1ba78394b71"
      },
      "source": [
        "df1.head(1)"
      ],
      "execution_count": 24,
      "outputs": [
        {
          "output_type": "execute_result",
          "data": {
            "text/html": [
              "<div>\n",
              "<style scoped>\n",
              "    .dataframe tbody tr th:only-of-type {\n",
              "        vertical-align: middle;\n",
              "    }\n",
              "\n",
              "    .dataframe tbody tr th {\n",
              "        vertical-align: top;\n",
              "    }\n",
              "\n",
              "    .dataframe thead th {\n",
              "        text-align: right;\n",
              "    }\n",
              "</style>\n",
              "<table border=\"1\" class=\"dataframe\">\n",
              "  <thead>\n",
              "    <tr style=\"text-align: right;\">\n",
              "      <th></th>\n",
              "      <th>Age</th>\n",
              "      <th>Income</th>\n",
              "      <th>ZIP Code</th>\n",
              "      <th>Family</th>\n",
              "      <th>CCAvg</th>\n",
              "      <th>Education</th>\n",
              "      <th>Mortgage</th>\n",
              "      <th>Personal Loan</th>\n",
              "      <th>Securities Account</th>\n",
              "      <th>CD Account</th>\n",
              "      <th>Online</th>\n",
              "      <th>CreditCard</th>\n",
              "    </tr>\n",
              "  </thead>\n",
              "  <tbody>\n",
              "    <tr>\n",
              "      <th>0</th>\n",
              "      <td>25</td>\n",
              "      <td>49</td>\n",
              "      <td>91107</td>\n",
              "      <td>4</td>\n",
              "      <td>1.6</td>\n",
              "      <td>1</td>\n",
              "      <td>0</td>\n",
              "      <td>0</td>\n",
              "      <td>1</td>\n",
              "      <td>0</td>\n",
              "      <td>0</td>\n",
              "      <td>0</td>\n",
              "    </tr>\n",
              "  </tbody>\n",
              "</table>\n",
              "</div>"
            ],
            "text/plain": [
              "   Age  Income  ZIP Code  ...  CD Account  Online  CreditCard\n",
              "0   25      49     91107  ...           0       0           0\n",
              "\n",
              "[1 rows x 12 columns]"
            ]
          },
          "metadata": {
            "tags": []
          },
          "execution_count": 24
        }
      ]
    },
    {
      "cell_type": "code",
      "metadata": {
        "id": "XPEKZVdGWKRe",
        "colab_type": "code",
        "colab": {
          "base_uri": "https://localhost:8080/",
          "height": 254
        },
        "outputId": "d86e8898-ece6-4e9d-a31f-00d1487af586"
      },
      "source": [
        "Q1 = df1.quantile(0.25)\n",
        "Q3 = df1.quantile(0.75)\n",
        "IQR = Q3 - Q1\n",
        "print(IQR)"
      ],
      "execution_count": 25,
      "outputs": [
        {
          "output_type": "stream",
          "text": [
            "Age                     20.0\n",
            "Income                  59.0\n",
            "ZIP Code              2697.0\n",
            "Family                   2.0\n",
            "CCAvg                    1.8\n",
            "Education                2.0\n",
            "Mortgage               101.0\n",
            "Personal Loan            0.0\n",
            "Securities Account       0.0\n",
            "CD Account               0.0\n",
            "Online                   1.0\n",
            "CreditCard               1.0\n",
            "dtype: float64\n"
          ],
          "name": "stdout"
        }
      ]
    },
    {
      "cell_type": "markdown",
      "metadata": {
        "id": "frKpnoreW9Nb",
        "colab_type": "text"
      },
      "source": [
        "Mortgage is thus expectedly carrying outliers."
      ]
    },
    {
      "cell_type": "code",
      "metadata": {
        "id": "Vb8SmHw0qG81",
        "colab_type": "code",
        "colab": {}
      },
      "source": [
        "#To deal with outliers in Mortgage, I chose binning\n",
        "bins=[0,100,200,300,400,500,600,700]\n",
        "group=[0,1,2,3,4,5,6]\n",
        "df1['Mortgage']=pd.cut(df1['Mortgage'].fillna(0), bins, labels=group,  include_lowest=True)"
      ],
      "execution_count": 26,
      "outputs": []
    },
    {
      "cell_type": "code",
      "metadata": {
        "id": "rMcOeHxeQpbn",
        "colab_type": "code",
        "colab": {
          "base_uri": "https://localhost:8080/",
          "height": 303
        },
        "outputId": "655511ec-9826-4123-c5c0-eee2497aac1e"
      },
      "source": [
        "sns.boxplot(x=\"Family\", y=\"Mortgage\", hue=\"Personal Loan\" ,data=df1)"
      ],
      "execution_count": 27,
      "outputs": [
        {
          "output_type": "execute_result",
          "data": {
            "text/plain": [
              "<matplotlib.axes._subplots.AxesSubplot at 0x7fecefbd8eb8>"
            ]
          },
          "metadata": {
            "tags": []
          },
          "execution_count": 27
        },
        {
          "output_type": "display_data",
          "data": {
            "image/png": "[encoded data removed]",
            "text/plain": [
              "<Figure size 432x288 with 1 Axes>"
            ]
          },
          "metadata": {
            "tags": []
          }
        }
      ]
    },
    {
      "cell_type": "code",
      "metadata": {
        "id": "V6yBLeNKVPBb",
        "colab_type": "code",
        "colab": {
          "base_uri": "https://localhost:8080/",
          "height": 303
        },
        "outputId": "2e49a07f-cea2-43bc-8d79-b26d61539432"
      },
      "source": [
        "new_income = PowerTransformer(method=\"yeo-johnson\", standardize=False)\n",
        "\n",
        "new_income.fit(df1[\"Income\"].values.reshape(-1, 1))\n",
        "\n",
        "df1[\"Income\"] = new_income.transform(df1[\"Income\"].values.reshape(-1, 1))\n",
        "\n",
        "sns.distplot(df1[\"Income\"])"
      ],
      "execution_count": 28,
      "outputs": [
        {
          "output_type": "execute_result",
          "data": {
            "text/plain": [
              "<matplotlib.axes._subplots.AxesSubplot at 0x7feceeaa6f98>"
            ]
          },
          "metadata": {
            "tags": []
          },
          "execution_count": 28
        },
        {
          "output_type": "display_data",
          "data": {
            "image/png": "[encoded data removed]",
            "text/plain": [
              "<Figure size 432x288 with 1 Axes>"
            ]
          },
          "metadata": {
            "tags": []
          }
        }
      ]
    },
    {
      "cell_type": "code",
      "metadata": {
        "id": "iIB9ysKmZdFA",
        "colab_type": "code",
        "colab": {
          "base_uri": "https://localhost:8080/",
          "height": 303
        },
        "outputId": "cd00b5f9-887d-4ff8-ee1a-328682e7f32c"
      },
      "source": [
        "new_CCAvg = PowerTransformer(method=\"yeo-johnson\", standardize=False)\n",
        "\n",
        "new_CCAvg.fit(df1[\"CCAvg\"].values.reshape(-1, 1))\n",
        "\n",
        "df1[\"CCAvg\"] = new_CCAvg.transform(df1[\"CCAvg\"].values.reshape(-1, 1))\n",
        "\n",
        "sns.distplot(df1[\"CCAvg\"])"
      ],
      "execution_count": 29,
      "outputs": [
        {
          "output_type": "execute_result",
          "data": {
            "text/plain": [
              "<matplotlib.axes._subplots.AxesSubplot at 0x7feceea04cc0>"
            ]
          },
          "metadata": {
            "tags": []
          },
          "execution_count": 29
        },
        {
          "output_type": "display_data",
          "data": {
            "image/png": "[encoded data removed]",
            "text/plain": [
              "<Figure size 432x288 with 1 Axes>"
            ]
          },
          "metadata": {
            "tags": []
          }
        }
      ]
    },
    {
      "cell_type": "code",
      "metadata": {
        "id": "6vnUid7glqul",
        "colab_type": "code",
        "colab": {}
      },
      "source": [
        "num_cols = ['Age', 'CCAvg', 'Income', 'Family', 'Education']\n",
        "df1[num_cols]=(df1[num_cols]-df1[num_cols].min())/(df1[num_cols].max()-df1[num_cols].min())"
      ],
      "execution_count": 30,
      "outputs": []
    },
    {
      "cell_type": "markdown",
      "metadata": {
        "id": "NZs5nBSV__Cq",
        "colab_type": "text"
      },
      "source": [
        "# Train-Test Split"
      ]
    },
    {
      "cell_type": "code",
      "metadata": {
        "id": "733Tg3r-AI8L",
        "colab_type": "code",
        "colab": {}
      },
      "source": [
        "from sklearn.model_selection import train_test_split\n",
        "df11=df1.loc[:, df1.columns != 'ZIP Code'] #to not affect the original data and also drop ZIP Code\n",
        "df2=df11.pop('Personal Loan') #separating target variable\n",
        "train_X, test_X, train_Y, test_Y= train_test_split(df11, df2, test_size=0.3, stratify=df2, random_state=0) #for equal distribution"
      ],
      "execution_count": 31,
      "outputs": []
    },
    {
      "cell_type": "code",
      "metadata": {
        "id": "zzk858biC2sW",
        "colab_type": "code",
        "colab": {
          "base_uri": "https://localhost:8080/",
          "height": 72
        },
        "outputId": "2d002f11-0bcf-4ecc-d421-163948f2466a"
      },
      "source": [
        "train_Y.value_counts()/len(train_Y)"
      ],
      "execution_count": 32,
      "outputs": [
        {
          "output_type": "execute_result",
          "data": {
            "text/plain": [
              "0    0.904\n",
              "1    0.096\n",
              "Name: Personal Loan, dtype: float64"
            ]
          },
          "metadata": {
            "tags": []
          },
          "execution_count": 32
        }
      ]
    },
    {
      "cell_type": "code",
      "metadata": {
        "id": "ap79ef6gDx2H",
        "colab_type": "code",
        "colab": {
          "base_uri": "https://localhost:8080/",
          "height": 72
        },
        "outputId": "1dcdddf6-9df7-4252-d007-4ec2800ba361"
      },
      "source": [
        "test_Y.value_counts()/len(test_Y)"
      ],
      "execution_count": 33,
      "outputs": [
        {
          "output_type": "execute_result",
          "data": {
            "text/plain": [
              "0    0.904\n",
              "1    0.096\n",
              "Name: Personal Loan, dtype: float64"
            ]
          },
          "metadata": {
            "tags": []
          },
          "execution_count": 33
        }
      ]
    },
    {
      "cell_type": "code",
      "metadata": {
        "id": "VK1T9kiqw1Lp",
        "colab_type": "code",
        "colab": {
          "base_uri": "https://localhost:8080/",
          "height": 198
        },
        "outputId": "e0034fdc-652e-4760-c56b-67a95907e3e1"
      },
      "source": [
        "train_X.head()"
      ],
      "execution_count": 34,
      "outputs": [
        {
          "output_type": "execute_result",
          "data": {
            "text/html": [
              "<div>\n",
              "<style scoped>\n",
              "    .dataframe tbody tr th:only-of-type {\n",
              "        vertical-align: middle;\n",
              "    }\n",
              "\n",
              "    .dataframe tbody tr th {\n",
              "        vertical-align: top;\n",
              "    }\n",
              "\n",
              "    .dataframe thead th {\n",
              "        text-align: right;\n",
              "    }\n",
              "</style>\n",
              "<table border=\"1\" class=\"dataframe\">\n",
              "  <thead>\n",
              "    <tr style=\"text-align: right;\">\n",
              "      <th></th>\n",
              "      <th>Age</th>\n",
              "      <th>Income</th>\n",
              "      <th>Family</th>\n",
              "      <th>CCAvg</th>\n",
              "      <th>Education</th>\n",
              "      <th>Mortgage</th>\n",
              "      <th>Securities Account</th>\n",
              "      <th>CD Account</th>\n",
              "      <th>Online</th>\n",
              "      <th>CreditCard</th>\n",
              "    </tr>\n",
              "  </thead>\n",
              "  <tbody>\n",
              "    <tr>\n",
              "      <th>3789</th>\n",
              "      <td>0.636364</td>\n",
              "      <td>0.231652</td>\n",
              "      <td>0.666667</td>\n",
              "      <td>0.180954</td>\n",
              "      <td>0.0</td>\n",
              "      <td>0</td>\n",
              "      <td>0</td>\n",
              "      <td>0</td>\n",
              "      <td>1</td>\n",
              "      <td>1</td>\n",
              "    </tr>\n",
              "    <tr>\n",
              "      <th>758</th>\n",
              "      <td>0.931818</td>\n",
              "      <td>0.330569</td>\n",
              "      <td>0.000000</td>\n",
              "      <td>0.457638</td>\n",
              "      <td>0.5</td>\n",
              "      <td>0</td>\n",
              "      <td>1</td>\n",
              "      <td>0</td>\n",
              "      <td>0</td>\n",
              "      <td>0</td>\n",
              "    </tr>\n",
              "    <tr>\n",
              "      <th>2868</th>\n",
              "      <td>0.659091</td>\n",
              "      <td>0.297577</td>\n",
              "      <td>1.000000</td>\n",
              "      <td>0.506971</td>\n",
              "      <td>0.0</td>\n",
              "      <td>0</td>\n",
              "      <td>0</td>\n",
              "      <td>0</td>\n",
              "      <td>1</td>\n",
              "      <td>1</td>\n",
              "    </tr>\n",
              "    <tr>\n",
              "      <th>2550</th>\n",
              "      <td>0.204545</td>\n",
              "      <td>0.187597</td>\n",
              "      <td>0.000000</td>\n",
              "      <td>0.216125</td>\n",
              "      <td>1.0</td>\n",
              "      <td>1</td>\n",
              "      <td>0</td>\n",
              "      <td>0</td>\n",
              "      <td>1</td>\n",
              "      <td>0</td>\n",
              "    </tr>\n",
              "    <tr>\n",
              "      <th>2150</th>\n",
              "      <td>0.886364</td>\n",
              "      <td>0.458088</td>\n",
              "      <td>0.000000</td>\n",
              "      <td>0.306062</td>\n",
              "      <td>0.0</td>\n",
              "      <td>0</td>\n",
              "      <td>1</td>\n",
              "      <td>0</td>\n",
              "      <td>0</td>\n",
              "      <td>1</td>\n",
              "    </tr>\n",
              "  </tbody>\n",
              "</table>\n",
              "</div>"
            ],
            "text/plain": [
              "           Age    Income    Family  ...  CD Account  Online CreditCard\n",
              "3789  0.636364  0.231652  0.666667  ...           0       1          1\n",
              "758   0.931818  0.330569  0.000000  ...           0       0          0\n",
              "2868  0.659091  0.297577  1.000000  ...           0       1          1\n",
              "2550  0.204545  0.187597  0.000000  ...           0       1          0\n",
              "2150  0.886364  0.458088  0.000000  ...           0       0          1\n",
              "\n",
              "[5 rows x 10 columns]"
            ]
          },
          "metadata": {
            "tags": []
          },
          "execution_count": 34
        }
      ]
    },
    {
      "cell_type": "markdown",
      "metadata": {
        "id": "C0IrQA5TEHwf",
        "colab_type": "text"
      },
      "source": [
        "# Decision Tree (Training score = 98.45% and Testing score=98.00%)"
      ]
    },
    {
      "cell_type": "code",
      "metadata": {
        "id": "KWmXRwmqENqw",
        "colab_type": "code",
        "colab": {}
      },
      "source": [
        "from sklearn.tree import DecisionTreeClassifier"
      ],
      "execution_count": 35,
      "outputs": []
    },
    {
      "cell_type": "code",
      "metadata": {
        "id": "p_IaWtajEVAn",
        "colab_type": "code",
        "colab": {}
      },
      "source": [
        "clf=DecisionTreeClassifier(criterion='gini', max_depth=4) #at max depth=3 testing accuracy is more tha training accuracy"
      ],
      "execution_count": 36,
      "outputs": []
    },
    {
      "cell_type": "code",
      "metadata": {
        "id": "E9Z_PktEEVLr",
        "colab_type": "code",
        "colab": {
          "base_uri": "https://localhost:8080/",
          "height": 126
        },
        "outputId": "befff12e-0c7e-47b2-8ab3-793c9db2b27b"
      },
      "source": [
        "clf.fit(train_X, train_Y)"
      ],
      "execution_count": 37,
      "outputs": [
        {
          "output_type": "execute_result",
          "data": {
            "text/plain": [
              "DecisionTreeClassifier(ccp_alpha=0.0, class_weight=None, criterion='gini',\n",
              "                       max_depth=4, max_features=None, max_leaf_nodes=None,\n",
              "                       min_impurity_decrease=0.0, min_impurity_split=None,\n",
              "                       min_samples_leaf=1, min_samples_split=2,\n",
              "                       min_weight_fraction_leaf=0.0, presort='deprecated',\n",
              "                       random_state=None, splitter='best')"
            ]
          },
          "metadata": {
            "tags": []
          },
          "execution_count": 37
        }
      ]
    },
    {
      "cell_type": "code",
      "metadata": {
        "id": "fiFOXS3iEVFs",
        "colab_type": "code",
        "colab": {
          "base_uri": "https://localhost:8080/",
          "height": 35
        },
        "outputId": "a2199169-f902-4d2b-8c9a-092a0981c1a1"
      },
      "source": [
        "clf.score(train_X, train_Y)"
      ],
      "execution_count": 38,
      "outputs": [
        {
          "output_type": "execute_result",
          "data": {
            "text/plain": [
              "0.9845714285714285"
            ]
          },
          "metadata": {
            "tags": []
          },
          "execution_count": 38
        }
      ]
    },
    {
      "cell_type": "code",
      "metadata": {
        "id": "9C6UgOWlEU08",
        "colab_type": "code",
        "colab": {
          "base_uri": "https://localhost:8080/",
          "height": 35
        },
        "outputId": "a379fa12-2451-413e-8298-cecce474ae78"
      },
      "source": [
        "clf.score(test_X, test_Y)"
      ],
      "execution_count": 39,
      "outputs": [
        {
          "output_type": "execute_result",
          "data": {
            "text/plain": [
              "0.98"
            ]
          },
          "metadata": {
            "tags": []
          },
          "execution_count": 39
        }
      ]
    },
    {
      "cell_type": "markdown",
      "metadata": {
        "id": "oqzxzLJJbi4r",
        "colab_type": "text"
      },
      "source": [
        "# KNN (Training score = 92.94% and Testing score=92.80%)"
      ]
    },
    {
      "cell_type": "code",
      "metadata": {
        "id": "S42FrSB5bqug",
        "colab_type": "code",
        "colab": {}
      },
      "source": [
        "from sklearn.neighbors import KNeighborsClassifier"
      ],
      "execution_count": 40,
      "outputs": []
    },
    {
      "cell_type": "code",
      "metadata": {
        "id": "URb626G4cWdT",
        "colab_type": "code",
        "colab": {}
      },
      "source": [
        "k=KNeighborsClassifier(n_neighbors=21, weights='uniform')"
      ],
      "execution_count": 41,
      "outputs": []
    },
    {
      "cell_type": "code",
      "metadata": {
        "id": "HfpuYliicwBH",
        "colab_type": "code",
        "colab": {
          "base_uri": "https://localhost:8080/",
          "height": 72
        },
        "outputId": "e6461efa-e002-4e2d-d632-e0a4038748e7"
      },
      "source": [
        "k.fit(train_X, train_Y)"
      ],
      "execution_count": 42,
      "outputs": [
        {
          "output_type": "execute_result",
          "data": {
            "text/plain": [
              "KNeighborsClassifier(algorithm='auto', leaf_size=30, metric='minkowski',\n",
              "                     metric_params=None, n_jobs=None, n_neighbors=21, p=2,\n",
              "                     weights='uniform')"
            ]
          },
          "metadata": {
            "tags": []
          },
          "execution_count": 42
        }
      ]
    },
    {
      "cell_type": "code",
      "metadata": {
        "id": "Woy9yKSkc1iS",
        "colab_type": "code",
        "colab": {
          "base_uri": "https://localhost:8080/",
          "height": 35
        },
        "outputId": "4a042700-f1e3-4354-d27d-f0ecad03d154"
      },
      "source": [
        "k.score(train_X, train_Y)"
      ],
      "execution_count": 43,
      "outputs": [
        {
          "output_type": "execute_result",
          "data": {
            "text/plain": [
              "0.9294285714285714"
            ]
          },
          "metadata": {
            "tags": []
          },
          "execution_count": 43
        }
      ]
    },
    {
      "cell_type": "code",
      "metadata": {
        "id": "yyHgKivgc7Pe",
        "colab_type": "code",
        "colab": {
          "base_uri": "https://localhost:8080/",
          "height": 35
        },
        "outputId": "2cf6f490-9e73-446b-ba50-2922c813bdb4"
      },
      "source": [
        "k.score(test_X, test_Y)"
      ],
      "execution_count": 44,
      "outputs": [
        {
          "output_type": "execute_result",
          "data": {
            "text/plain": [
              "0.928"
            ]
          },
          "metadata": {
            "tags": []
          },
          "execution_count": 44
        }
      ]
    },
    {
      "cell_type": "markdown",
      "metadata": {
        "id": "9qKqx-dwpqSz",
        "colab_type": "text"
      },
      "source": [
        "# Logistic Regression (Training score = 95.31% and Testing score=95.46%)\n",
        "\n"
      ]
    },
    {
      "cell_type": "code",
      "metadata": {
        "id": "0z4BDocupvvz",
        "colab_type": "code",
        "colab": {}
      },
      "source": [
        "from sklearn.linear_model import LogisticRegression"
      ],
      "execution_count": 45,
      "outputs": []
    },
    {
      "cell_type": "code",
      "metadata": {
        "id": "RdZpUHBep4Xh",
        "colab_type": "code",
        "colab": {}
      },
      "source": [
        "lr=LogisticRegression(max_iter=34)"
      ],
      "execution_count": 46,
      "outputs": []
    },
    {
      "cell_type": "code",
      "metadata": {
        "id": "IsFWn9KzqG2Y",
        "colab_type": "code",
        "colab": {
          "base_uri": "https://localhost:8080/",
          "height": 108
        },
        "outputId": "59aae815-be6d-41a1-dfb5-1458b6d2bd05"
      },
      "source": [
        "lr.fit(train_X, train_Y)"
      ],
      "execution_count": 47,
      "outputs": [
        {
          "output_type": "execute_result",
          "data": {
            "text/plain": [
              "LogisticRegression(C=1.0, class_weight=None, dual=False, fit_intercept=True,\n",
              "                   intercept_scaling=1, l1_ratio=None, max_iter=34,\n",
              "                   multi_class='auto', n_jobs=None, penalty='l2',\n",
              "                   random_state=None, solver='lbfgs', tol=0.0001, verbose=0,\n",
              "                   warm_start=False)"
            ]
          },
          "metadata": {
            "tags": []
          },
          "execution_count": 47
        }
      ]
    },
    {
      "cell_type": "code",
      "metadata": {
        "id": "gxdrKPwFqV6f",
        "colab_type": "code",
        "colab": {
          "base_uri": "https://localhost:8080/",
          "height": 35
        },
        "outputId": "73c2c7bf-abee-4b9a-bd75-ec6b8036a3b3"
      },
      "source": [
        "lr.score(train_X, train_Y)"
      ],
      "execution_count": 48,
      "outputs": [
        {
          "output_type": "execute_result",
          "data": {
            "text/plain": [
              "0.9531428571428572"
            ]
          },
          "metadata": {
            "tags": []
          },
          "execution_count": 48
        }
      ]
    },
    {
      "cell_type": "code",
      "metadata": {
        "id": "5-nvhyri_ryC",
        "colab_type": "code",
        "colab": {
          "base_uri": "https://localhost:8080/",
          "height": 35
        },
        "outputId": "7af478e0-091e-4845-f0d0-bcd6039165d2"
      },
      "source": [
        "lr.score(test_X, test_Y)"
      ],
      "execution_count": 49,
      "outputs": [
        {
          "output_type": "execute_result",
          "data": {
            "text/plain": [
              "0.9546666666666667"
            ]
          },
          "metadata": {
            "tags": []
          },
          "execution_count": 49
        }
      ]
    },
    {
      "cell_type": "markdown",
      "metadata": {
        "id": "94uecjwldDZz",
        "colab_type": "text"
      },
      "source": [
        "#Random Forest (Training score = 96.02% and Testing score=96.20%)"
      ]
    },
    {
      "cell_type": "code",
      "metadata": {
        "id": "LtiRPNridJlB",
        "colab_type": "code",
        "colab": {}
      },
      "source": [
        "from sklearn.ensemble import RandomForestClassifier"
      ],
      "execution_count": 50,
      "outputs": []
    },
    {
      "cell_type": "code",
      "metadata": {
        "id": "DO2xnFrmdZes",
        "colab_type": "code",
        "colab": {}
      },
      "source": [
        "rf=RandomForestClassifier(max_depth=3, random_state=0)"
      ],
      "execution_count": 51,
      "outputs": []
    },
    {
      "cell_type": "code",
      "metadata": {
        "id": "5VT0Sjdgdsmk",
        "colab_type": "code",
        "colab": {
          "base_uri": "https://localhost:8080/",
          "height": 163
        },
        "outputId": "bcfe6be4-14be-4ede-90a5-7cc905ec5406"
      },
      "source": [
        "rf.fit(train_X, train_Y)"
      ],
      "execution_count": 52,
      "outputs": [
        {
          "output_type": "execute_result",
          "data": {
            "text/plain": [
              "RandomForestClassifier(bootstrap=True, ccp_alpha=0.0, class_weight=None,\n",
              "                       criterion='gini', max_depth=3, max_features='auto',\n",
              "                       max_leaf_nodes=None, max_samples=None,\n",
              "                       min_impurity_decrease=0.0, min_impurity_split=None,\n",
              "                       min_samples_leaf=1, min_samples_split=2,\n",
              "                       min_weight_fraction_leaf=0.0, n_estimators=100,\n",
              "                       n_jobs=None, oob_score=False, random_state=0, verbose=0,\n",
              "                       warm_start=False)"
            ]
          },
          "metadata": {
            "tags": []
          },
          "execution_count": 52
        }
      ]
    },
    {
      "cell_type": "code",
      "metadata": {
        "id": "qhf9-KjAdy5G",
        "colab_type": "code",
        "colab": {
          "base_uri": "https://localhost:8080/",
          "height": 35
        },
        "outputId": "dc8dd5d0-eccf-41c3-cf60-70df843d3a5c"
      },
      "source": [
        "rf.score(train_X, train_Y)"
      ],
      "execution_count": 53,
      "outputs": [
        {
          "output_type": "execute_result",
          "data": {
            "text/plain": [
              "0.9602857142857143"
            ]
          },
          "metadata": {
            "tags": []
          },
          "execution_count": 53
        }
      ]
    },
    {
      "cell_type": "code",
      "metadata": {
        "id": "mwBKOiswd2iH",
        "colab_type": "code",
        "colab": {
          "base_uri": "https://localhost:8080/",
          "height": 35
        },
        "outputId": "a137a28e-d1ce-4a6d-a83c-3012a95a322c"
      },
      "source": [
        "rf.score(test_X, test_Y)"
      ],
      "execution_count": 54,
      "outputs": [
        {
          "output_type": "execute_result",
          "data": {
            "text/plain": [
              "0.962"
            ]
          },
          "metadata": {
            "tags": []
          },
          "execution_count": 54
        }
      ]
    },
    {
      "cell_type": "markdown",
      "metadata": {
        "id": "Cz-FvCgKDHRV",
        "colab_type": "text"
      },
      "source": [
        "# Conclusion"
      ]
    },
    {
      "cell_type": "markdown",
      "metadata": {
        "id": "EQSR_GnWfOpH",
        "colab_type": "text"
      },
      "source": [
        "The objective here of the bank was to identify potential takers of a personal loan based on customer's demographic information and their past activity with the bank.\n",
        "\n",
        "We have built a model for the same purpose using a variety of information. 4 algorithms have been used in this notebook.\n",
        "\n",
        "The respective results are:\n",
        "\n",
        "\n",
        "1.   Decision Tree (Training score = 98.45% and Testing score=98.00%)\n",
        "2.   KNN (Training score = 92.94% and Testing score=92.80%)\n",
        "3.   Logistic Regression (Training score = 95.31% and Testing score=95.46%)\n",
        "4.   Random Forest (Training score = 96.02% and Testing score=96.20%)\n",
        "\n",
        "From the results, decision tree has the highest accuracy and it should therefore be the final model.\n",
        "\n",
        "\n",
        "\n",
        "\n",
        "\n",
        "\n"
      ]
    }
  ]
}